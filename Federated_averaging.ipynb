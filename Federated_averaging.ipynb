{
  "nbformat": 4,
  "nbformat_minor": 0,
  "metadata": {
    "colab": {
      "provenance": []
    },
    "kernelspec": {
      "name": "python3",
      "display_name": "Python 3"
    },
    "language_info": {
      "name": "python"
    }
  },
  "cells": [
    {
      "cell_type": "code",
      "execution_count": null,
      "metadata": {
        "id": "xx0d-0xS2FWE"
      },
      "outputs": [],
      "source": []
    },
    {
      "cell_type": "code",
      "source": [
        "import tensorflow as tf\n",
        "import pandas as pd\n",
        "import numpy as np\n",
        "from sklearn.model_selection import train_test_split\n",
        "from sklearn.preprocessing import StandardScaler\n",
        "\n",
        "# Load and preprocess dataset\n",
        "file_path = \"/content/creditcard.csv\"\n",
        "data = pd.read_csv(file_path, on_bad_lines='skip')\n",
        "\n",
        "# Handle missing values in the target column\n",
        "data = data.dropna(subset=['Class'])  # Drop rows with NaN in 'Class'\n",
        "# Alternative: Fill missing values with 0\n",
        "# data['Class'] = data['Class'].fillna(0)\n",
        "\n",
        "# Separate features and labels\n",
        "X = data.drop(columns=['Class'])\n",
        "y = data['Class']\n",
        "\n",
        "# Normalize features (excluding Time)\n",
        "scaler = StandardScaler()\n",
        "X_scaled = scaler.fit_transform(X.drop(columns=['Time']))\n",
        "X_scaled = pd.DataFrame(X_scaled, columns=X.columns[1:])\n",
        "X_scaled['Time'] = X['Time']  # Add Time back unscaled\n",
        "\n",
        "# Verify no NaN values in target\n",
        "print(y.isnull().sum())  # Ensure there are no NaN values\n",
        "\n",
        "# Split into training and testing sets\n",
        "X_train, X_test, y_train, y_test = train_test_split(X_scaled, y, test_size=0.2, random_state=42, stratify=y)\n",
        "\n",
        "# Create federated clients\n",
        "num_clients = 3\n",
        "client_data = []\n",
        "split_X = np.array_split(X_train, num_clients)\n",
        "split_y = np.array_split(y_train, num_clients)\n",
        "for i in range(num_clients):\n",
        "    client_data.append({'X': split_X[i].values, 'y': split_y[i].values})\n",
        "\n",
        "# Define test data\n",
        "test_data = {'X': X_test.values, 'y': y_test.values}\n",
        "\n",
        "# Define model\n",
        "def create_model(input_dim):\n",
        "    model = tf.keras.Sequential([\n",
        "        tf.keras.layers.Input(shape=(input_dim,)),\n",
        "        tf.keras.layers.Dense(16, activation='relu'),\n",
        "        tf.keras.layers.Dense(8, activation='relu'),\n",
        "        tf.keras.layers.Dense(1, activation='sigmoid')\n",
        "    ])\n",
        "    return model\n",
        "\n",
        "def train_fedavg(global_model, client_datasets, test_data, num_rounds, local_epochs, learning_rate):\n",
        "    global_weights = global_model.get_weights()\n",
        "\n",
        "    for round_num in range(num_rounds):\n",
        "        local_weights_list = []\n",
        "        print(f\"Starting round {round_num + 1}/{num_rounds}...\")\n",
        "\n",
        "        # Local training on each client\n",
        "        for client_idx, client_data in enumerate(client_datasets):\n",
        "            # Clone the global model for local training\n",
        "            local_model = create_model(global_model.input_shape[-1])\n",
        "            local_model.set_weights(global_weights)\n",
        "\n",
        "            # Compile the local model\n",
        "            optimizer = tf.keras.optimizers.SGD(learning_rate)\n",
        "            local_model.compile(optimizer=optimizer, loss='binary_crossentropy', metrics=['accuracy'])\n",
        "\n",
        "            # Train locally\n",
        "            local_model.fit(client_data['X'], client_data['y'], epochs=local_epochs, verbose=0)\n",
        "\n",
        "            # Collect local weights\n",
        "            local_weights_list.append(local_model.get_weights())\n",
        "\n",
        "        # Average local weights to update global model\n",
        "        new_global_weights = [np.mean([local_weights[layer] for local_weights in local_weights_list], axis=0)\n",
        "                              for layer in range(len(global_weights))]\n",
        "        global_model.set_weights(new_global_weights)\n",
        "\n",
        "        # Evaluate global model on test dataset\n",
        "        global_loss, global_acc = global_model.evaluate(test_data['X'], test_data['y'], verbose=0)\n",
        "        print(f\"Global Model Accuracy: {global_acc:.4f} (after round {round_num + 1})\")\n",
        "\n",
        "    return global_model\n",
        "\n",
        "# Initialize and compile the global model\n",
        "input_dim = X_train.shape[1]\n",
        "global_model = create_model(input_dim)\n",
        "global_model.compile(optimizer=tf.keras.optimizers.SGD(learning_rate=0.01),\n",
        "                     loss='binary_crossentropy',\n",
        "                     metrics=['accuracy'])\n",
        "\n",
        "# Federated Averaging parameters\n",
        "num_rounds = 5\n",
        "local_epochs = 2\n",
        "learning_rate = 0.01\n",
        "\n",
        "# Train the global model using Federated Averaging\n",
        "global_model = train_fedavg(global_model, client_data, test_data, num_rounds, local_epochs, learning_rate)\n",
        "print(\"Federated training with FedAvg completed.\")\n"
      ],
      "metadata": {
        "colab": {
          "base_uri": "https://localhost:8080/"
        },
        "id": "qxtA0FIy2HLy",
        "outputId": "34919d26-4e34-4e82-fbfd-1b61737a0dea"
      },
      "execution_count": null,
      "outputs": [
        {
          "output_type": "stream",
          "name": "stdout",
          "text": [
            "0\n"
          ]
        },
        {
          "output_type": "stream",
          "name": "stderr",
          "text": [
            "/usr/local/lib/python3.10/dist-packages/numpy/core/fromnumeric.py:59: FutureWarning: 'DataFrame.swapaxes' is deprecated and will be removed in a future version. Please use 'DataFrame.transpose' instead.\n",
            "  return bound(*args, **kwds)\n",
            "/usr/local/lib/python3.10/dist-packages/numpy/core/fromnumeric.py:59: FutureWarning: 'Series.swapaxes' is deprecated and will be removed in a future version. Please use 'Series.transpose' instead.\n",
            "  return bound(*args, **kwds)\n"
          ]
        },
        {
          "output_type": "stream",
          "name": "stdout",
          "text": [
            "Starting round 1/5...\n",
            "Global Model Accuracy: 0.9983 (after round 1)\n",
            "Starting round 2/5...\n",
            "Global Model Accuracy: 0.9983 (after round 2)\n",
            "Starting round 3/5...\n",
            "Global Model Accuracy: 0.9983 (after round 3)\n",
            "Starting round 4/5...\n",
            "Global Model Accuracy: 0.9983 (after round 4)\n",
            "Starting round 5/5...\n",
            "Global Model Accuracy: 0.9983 (after round 5)\n",
            "Federated training with FedAvg completed.\n"
          ]
        }
      ]
    }
  ]
}